{
 "cells": [
  {
   "cell_type": "code",
   "execution_count": 9,
   "id": "db432852",
   "metadata": {},
   "outputs": [],
   "source": [
    "f1 = open(\"C:/Users/jiahu_000/Desktop/cipher.txt\")\n",
    "f2 = open(\"C:/Users/jiahu_000/Desktop/cipher1289.txt\")"
   ]
  },
  {
   "cell_type": "code",
   "execution_count": 10,
   "id": "84c3d3ff",
   "metadata": {},
   "outputs": [
    {
     "name": "stdout",
     "output_type": "stream",
     "text": [
      "line 273: \n",
      " File 1:         r'\\([a-z]\\s*=\\s*([a-zA-Z0-9$]{3})(\\[\\d+\\])?\\([a-z]\\)',\n",
      " \n",
      " File 2:         r'\\([a-z]\\s*=\\s*([a-zA-Z0-9$]{2,3})(\\[\\d+\\])?\\([a-z]\\)'\n",
      "\n",
      "line 288: \n",
      " File 1:                         nfunc=function_match.group(1)),\n",
      " \n",
      " File 2:                         nfunc=re.escape(function_match.group(1))),\n",
      "\n"
     ]
    }
   ],
   "source": [
    "i = 0\n",
    "for line1 in f1:\n",
    "    i += 1\n",
    "    for line2 in f2:\n",
    "        if line1 == line2:\n",
    "            pass\n",
    "        else:\n",
    "            print(f\"line {i}: \\n File 1: {line1} \\n File 2: {line2}\")\n",
    "        break"
   ]
  },
  {
   "cell_type": "code",
   "execution_count": null,
   "id": "4ccbcec0",
   "metadata": {},
   "outputs": [],
   "source": []
  }
 ],
 "metadata": {
  "kernelspec": {
   "display_name": "Python 3 (ipykernel)",
   "language": "python",
   "name": "python3"
  },
  "language_info": {
   "codemirror_mode": {
    "name": "ipython",
    "version": 3
   },
   "file_extension": ".py",
   "mimetype": "text/x-python",
   "name": "python",
   "nbconvert_exporter": "python",
   "pygments_lexer": "ipython3",
   "version": "3.8.10"
  }
 },
 "nbformat": 4,
 "nbformat_minor": 5
}
